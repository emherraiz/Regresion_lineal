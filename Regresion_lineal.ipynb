{
 "cells": [
  {
   "cell_type": "code",
   "execution_count": 101,
   "metadata": {},
   "outputs": [],
   "source": [
    "import pandas as pd\n",
    "import seaborn as sns\n",
    "import matplotlib.pyplot as plt\n",
    "import numpy as np\n",
    "from sklearn.model_selection import train_test_split\n",
    "from sklearn.linear_model import LinearRegression, Ridge, Lasso, ElasticNet\n",
    "from sklearn.metrics import mean_absolute_error, mean_absolute_percentage_error, mean_squared_error, r2_score\n",
    "%matplotlib inline"
   ]
  },
  {
   "cell_type": "code",
   "execution_count": 78,
   "metadata": {},
   "outputs": [],
   "source": [
    "equipos = pd.read_csv('Datos/equipo.csv', header = None, names = ['Nombre_del_equipo', 'Imagen', 'Pais', 'id_equipo'])\n",
    "partidos = pd.read_csv('Datos/partidos.csv', header = None, names = ['fecha y hora', 'id_equipo_local', 'id_equipo_visitante', 'Victoria_local', 'Empate', 'Derrota'])"
   ]
  },
  {
   "cell_type": "code",
   "execution_count": 79,
   "metadata": {},
   "outputs": [
    {
     "name": "stdout",
     "output_type": "stream",
     "text": [
      "<class 'pandas.core.frame.DataFrame'>\n",
      "RangeIndex: 32 entries, 0 to 31\n",
      "Data columns (total 4 columns):\n",
      " #   Column             Non-Null Count  Dtype \n",
      "---  ------             --------------  ----- \n",
      " 0   Nombre_del_equipo  32 non-null     object\n",
      " 1   Imagen             32 non-null     object\n",
      " 2   Pais               32 non-null     object\n",
      " 3   id_equipo          32 non-null     int64 \n",
      "dtypes: int64(1), object(3)\n",
      "memory usage: 1.1+ KB\n"
     ]
    }
   ],
   "source": [
    "equipos.info()"
   ]
  },
  {
   "cell_type": "code",
   "execution_count": 80,
   "metadata": {},
   "outputs": [
    {
     "data": {
      "text/html": [
       "<div>\n",
       "<style scoped>\n",
       "    .dataframe tbody tr th:only-of-type {\n",
       "        vertical-align: middle;\n",
       "    }\n",
       "\n",
       "    .dataframe tbody tr th {\n",
       "        vertical-align: top;\n",
       "    }\n",
       "\n",
       "    .dataframe thead th {\n",
       "        text-align: right;\n",
       "    }\n",
       "</style>\n",
       "<table border=\"1\" class=\"dataframe\">\n",
       "  <thead>\n",
       "    <tr style=\"text-align: right;\">\n",
       "      <th></th>\n",
       "      <th>id_equipo</th>\n",
       "    </tr>\n",
       "  </thead>\n",
       "  <tbody>\n",
       "    <tr>\n",
       "      <th>count</th>\n",
       "      <td>32.000000</td>\n",
       "    </tr>\n",
       "    <tr>\n",
       "      <th>mean</th>\n",
       "      <td>16.031250</td>\n",
       "    </tr>\n",
       "    <tr>\n",
       "      <th>std</th>\n",
       "      <td>8.110067</td>\n",
       "    </tr>\n",
       "    <tr>\n",
       "      <th>min</th>\n",
       "      <td>1.000000</td>\n",
       "    </tr>\n",
       "    <tr>\n",
       "      <th>25%</th>\n",
       "      <td>10.750000</td>\n",
       "    </tr>\n",
       "    <tr>\n",
       "      <th>50%</th>\n",
       "      <td>14.500000</td>\n",
       "    </tr>\n",
       "    <tr>\n",
       "      <th>75%</th>\n",
       "      <td>22.250000</td>\n",
       "    </tr>\n",
       "    <tr>\n",
       "      <th>max</th>\n",
       "      <td>30.000000</td>\n",
       "    </tr>\n",
       "  </tbody>\n",
       "</table>\n",
       "</div>"
      ],
      "text/plain": [
       "       id_equipo\n",
       "count  32.000000\n",
       "mean   16.031250\n",
       "std     8.110067\n",
       "min     1.000000\n",
       "25%    10.750000\n",
       "50%    14.500000\n",
       "75%    22.250000\n",
       "max    30.000000"
      ]
     },
     "execution_count": 80,
     "metadata": {},
     "output_type": "execute_result"
    }
   ],
   "source": [
    "equipos.describe()"
   ]
  },
  {
   "cell_type": "code",
   "execution_count": 81,
   "metadata": {},
   "outputs": [
    {
     "name": "stdout",
     "output_type": "stream",
     "text": [
      "<class 'pandas.core.frame.DataFrame'>\n",
      "RangeIndex: 96 entries, 0 to 95\n",
      "Data columns (total 6 columns):\n",
      " #   Column               Non-Null Count  Dtype \n",
      "---  ------               --------------  ----- \n",
      " 0   fecha y hora         96 non-null     object\n",
      " 1   id_equipo_local      96 non-null     int64 \n",
      " 2   id_equipo_visitante  96 non-null     int64 \n",
      " 3   Victoria_local       96 non-null     int64 \n",
      " 4   Empate               96 non-null     int64 \n",
      " 5   Derrota              96 non-null     int64 \n",
      "dtypes: int64(5), object(1)\n",
      "memory usage: 4.6+ KB\n"
     ]
    }
   ],
   "source": [
    "partidos.info()"
   ]
  },
  {
   "cell_type": "code",
   "execution_count": 82,
   "metadata": {},
   "outputs": [
    {
     "data": {
      "text/html": [
       "<div>\n",
       "<style scoped>\n",
       "    .dataframe tbody tr th:only-of-type {\n",
       "        vertical-align: middle;\n",
       "    }\n",
       "\n",
       "    .dataframe tbody tr th {\n",
       "        vertical-align: top;\n",
       "    }\n",
       "\n",
       "    .dataframe thead th {\n",
       "        text-align: right;\n",
       "    }\n",
       "</style>\n",
       "<table border=\"1\" class=\"dataframe\">\n",
       "  <thead>\n",
       "    <tr style=\"text-align: right;\">\n",
       "      <th></th>\n",
       "      <th>id_equipo_local</th>\n",
       "      <th>id_equipo_visitante</th>\n",
       "      <th>Victoria_local</th>\n",
       "      <th>Empate</th>\n",
       "      <th>Derrota</th>\n",
       "    </tr>\n",
       "  </thead>\n",
       "  <tbody>\n",
       "    <tr>\n",
       "      <th>count</th>\n",
       "      <td>96.000000</td>\n",
       "      <td>96.000000</td>\n",
       "      <td>96.0</td>\n",
       "      <td>96.0</td>\n",
       "      <td>96.0</td>\n",
       "    </tr>\n",
       "    <tr>\n",
       "      <th>mean</th>\n",
       "      <td>16.500000</td>\n",
       "      <td>16.500000</td>\n",
       "      <td>33.0</td>\n",
       "      <td>34.0</td>\n",
       "      <td>33.0</td>\n",
       "    </tr>\n",
       "    <tr>\n",
       "      <th>std</th>\n",
       "      <td>9.281561</td>\n",
       "      <td>9.281561</td>\n",
       "      <td>0.0</td>\n",
       "      <td>0.0</td>\n",
       "      <td>0.0</td>\n",
       "    </tr>\n",
       "    <tr>\n",
       "      <th>min</th>\n",
       "      <td>1.000000</td>\n",
       "      <td>1.000000</td>\n",
       "      <td>33.0</td>\n",
       "      <td>34.0</td>\n",
       "      <td>33.0</td>\n",
       "    </tr>\n",
       "    <tr>\n",
       "      <th>25%</th>\n",
       "      <td>8.750000</td>\n",
       "      <td>8.750000</td>\n",
       "      <td>33.0</td>\n",
       "      <td>34.0</td>\n",
       "      <td>33.0</td>\n",
       "    </tr>\n",
       "    <tr>\n",
       "      <th>50%</th>\n",
       "      <td>16.500000</td>\n",
       "      <td>16.500000</td>\n",
       "      <td>33.0</td>\n",
       "      <td>34.0</td>\n",
       "      <td>33.0</td>\n",
       "    </tr>\n",
       "    <tr>\n",
       "      <th>75%</th>\n",
       "      <td>24.250000</td>\n",
       "      <td>24.250000</td>\n",
       "      <td>33.0</td>\n",
       "      <td>34.0</td>\n",
       "      <td>33.0</td>\n",
       "    </tr>\n",
       "    <tr>\n",
       "      <th>max</th>\n",
       "      <td>32.000000</td>\n",
       "      <td>32.000000</td>\n",
       "      <td>33.0</td>\n",
       "      <td>34.0</td>\n",
       "      <td>33.0</td>\n",
       "    </tr>\n",
       "  </tbody>\n",
       "</table>\n",
       "</div>"
      ],
      "text/plain": [
       "       id_equipo_local  id_equipo_visitante  Victoria_local  Empate  Derrota\n",
       "count        96.000000            96.000000            96.0    96.0     96.0\n",
       "mean         16.500000            16.500000            33.0    34.0     33.0\n",
       "std           9.281561             9.281561             0.0     0.0      0.0\n",
       "min           1.000000             1.000000            33.0    34.0     33.0\n",
       "25%           8.750000             8.750000            33.0    34.0     33.0\n",
       "50%          16.500000            16.500000            33.0    34.0     33.0\n",
       "75%          24.250000            24.250000            33.0    34.0     33.0\n",
       "max          32.000000            32.000000            33.0    34.0     33.0"
      ]
     },
     "execution_count": 82,
     "metadata": {},
     "output_type": "execute_result"
    }
   ],
   "source": [
    "partidos.describe()"
   ]
  },
  {
   "cell_type": "code",
   "execution_count": 83,
   "metadata": {},
   "outputs": [
    {
     "data": {
      "text/plain": [
       "<AxesSubplot: >"
      ]
     },
     "execution_count": 83,
     "metadata": {},
     "output_type": "execute_result"
    },
    {
     "data": {
      "image/png": "[encoded data removed]",
      "text/plain": [
       "<Figure size 432x288 with 1 Axes>"
      ]
     },
     "metadata": {
      "needs_background": "light"
     },
     "output_type": "display_data"
    }
   ],
   "source": [
    "sns.boxplot(data=equipos)"
   ]
  },
  {
   "cell_type": "code",
   "execution_count": 84,
   "metadata": {},
   "outputs": [
    {
     "data": {
      "text/plain": [
       "<AxesSubplot: >"
      ]
     },
     "execution_count": 84,
     "metadata": {},
     "output_type": "execute_result"
    },
    {
     "data": {
      "image/png": "[encoded data removed]",
      "text/plain": [
       "<Figure size 432x288 with 1 Axes>"
      ]
     },
     "metadata": {
      "needs_background": "light"
     },
     "output_type": "display_data"
    }
   ],
   "source": [
    "sns.boxplot(data=partidos)"
   ]
  },
  {
   "cell_type": "code",
   "execution_count": 85,
   "metadata": {},
   "outputs": [
    {
     "data": {
      "text/plain": [
       "<seaborn.axisgrid.PairGrid at 0x2073a3395e0>"
      ]
     },
     "execution_count": 85,
     "metadata": {},
     "output_type": "execute_result"
    },
    {
     "data": {
      "image/png": "[encoded data removed]",
      "text/plain": [
       "<Figure size 180x180 with 2 Axes>"
      ]
     },
     "metadata": {
      "needs_background": "light"
     },
     "output_type": "display_data"
    },
    {
     "data": {
      "image/png": "[encoded data removed]",
      "text/plain": [
       "<Figure size 900x900 with 30 Axes>"
      ]
     },
     "metadata": {
      "needs_background": "light"
     },
     "output_type": "display_data"
    }
   ],
   "source": [
    "sns.pairplot(data=equipos)\n",
    "sns.pairplot(data=partidos)"
   ]
  },
  {
   "cell_type": "code",
   "execution_count": 86,
   "metadata": {},
   "outputs": [],
   "source": [
    "corr_equipos = equipos.corr()\n",
    "corr_partidos = partidos.corr()"
   ]
  },
  {
   "cell_type": "code",
   "execution_count": 87,
   "metadata": {},
   "outputs": [
    {
     "data": {
      "text/plain": [
       "<AxesSubplot: >"
      ]
     },
     "execution_count": 87,
     "metadata": {},
     "output_type": "execute_result"
    },
    {
     "data": {
      "image/png": "[encoded data removed]",
      "text/plain": [
       "<Figure size 432x288 with 2 Axes>"
      ]
     },
     "metadata": {
      "needs_background": "light"
     },
     "output_type": "display_data"
    }
   ],
   "source": [
    "sns.heatmap(corr_equipos, annot=True)\n"
   ]
  },
  {
   "cell_type": "code",
   "execution_count": 88,
   "metadata": {},
   "outputs": [
    {
     "data": {
      "text/plain": [
       "<AxesSubplot: >"
      ]
     },
     "execution_count": 88,
     "metadata": {},
     "output_type": "execute_result"
    },
    {
     "data": {
      "image/png": "[encoded data removed]",
      "text/plain": [
       "<Figure size 432x288 with 2 Axes>"
      ]
     },
     "metadata": {
      "needs_background": "light"
     },
     "output_type": "display_data"
    }
   ],
   "source": [
    "sns.heatmap(corr_partidos, annot=True)"
   ]
  },
  {
   "attachments": {},
   "cell_type": "markdown",
   "metadata": {},
   "source": [
    "## Creación del modelo"
   ]
  },
  {
   "cell_type": "code",
   "execution_count": 89,
   "metadata": {},
   "outputs": [],
   "source": [
    "X = partidos['id_equipo_local']\n",
    "X = X.values.reshape(-1, 1)\n",
    "y = partidos['id_equipo_visitante']\n",
    "X_train, X_test, y_train, y_test = train_test_split(X, y, test_size=0.2, random_state=2)"
   ]
  },
  {
   "cell_type": "code",
   "execution_count": 90,
   "metadata": {},
   "outputs": [],
   "source": [
    "modelo = LinearRegression()\n",
    "modelo.fit(X_train, y_train)\n",
    "modelo_predictions = modelo.predict(X_test)"
   ]
  },
  {
   "cell_type": "code",
   "execution_count": 91,
   "metadata": {},
   "outputs": [
    {
     "name": "stdout",
     "output_type": "stream",
     "text": [
      "DATOS DEL MODELO REGRESIÓN LINEAL MULTIPLE\n",
      "\n",
      " Valor de las pendientes o coeficientes \"a\":\n",
      "[0.11572389]\n",
      "\n",
      " Valor de la intersección o coeficiente \"b\":\n",
      "15.330873423444428\n"
     ]
    }
   ],
   "source": [
    "print('DATOS DEL MODELO REGRESIÓN LINEAL MULTIPLE')\n",
    "print('\\n', 'Valor de las pendientes o coeficientes \"a\":')\n",
    "print(modelo.coef_)\n",
    "print('\\n', 'Valor de la intersección o coeficiente \"b\":')\n",
    "print(modelo.intercept_)"
   ]
  },
  {
   "cell_type": "code",
   "execution_count": 92,
   "metadata": {},
   "outputs": [
    {
     "name": "stdout",
     "output_type": "stream",
     "text": [
      "Mean Absolute Error: 7.325805738753516\n",
      "Mean Absolute Percentage Error: 206.82205453842192\n",
      "Mean Squared Error: 80.62021955540331\n",
      "Root Mean Squared Error: 8.97887629692064\n",
      "R^2 coefficient of determination: -0.1883876703331855\n"
     ]
    }
   ],
   "source": [
    "# Métricas para evaluar la calidad del modelo\n",
    "print('Mean Absolute Error:', mean_absolute_error(y_test,modelo_predictions))\n",
    "print('Mean Absolute Percentage Error:', mean_absolute_percentage_error(y_test, modelo_predictions)*100)\n",
    "print('Mean Squared Error:', mean_squared_error(y_test, modelo_predictions))\n",
    "print('Root Mean Squared Error:', np.sqrt(mean_squared_error(y_test, modelo_predictions)))\n",
    "print('R^2 coefficient of determination:', r2_score(y_test, modelo_predictions))\n"
   ]
  },
  {
   "cell_type": "code",
   "execution_count": 93,
   "metadata": {},
   "outputs": [],
   "source": [
    "mod_L2_reg = Ridge(alpha = 1, random_state=100)\n",
    "mod_L2_reg.fit(X_train, y_train)\n",
    "y_pred_l2_mod = mod_L2_reg.predict(X_test)"
   ]
  },
  {
   "cell_type": "code",
   "execution_count": 94,
   "metadata": {},
   "outputs": [
    {
     "name": "stdout",
     "output_type": "stream",
     "text": [
      "DATOS DEL MODELO REGRESIÓN LINEAL MULTIPLE l2\n",
      "\n",
      " Valor de las pendientes o coeficientes \"a\":\n",
      "[0.11570606]\n",
      "\n",
      " Valor de la intersección o coeficiente \"b\":\n",
      "15.33117110834977\n"
     ]
    }
   ],
   "source": [
    "print('DATOS DEL MODELO REGRESIÓN LINEAL MULTIPLE l2')\n",
    "print('\\n', 'Valor de las pendientes o coeficientes \"a\":')\n",
    "print(mod_L2_reg.coef_)\n",
    "print('\\n', 'Valor de la intersección o coeficiente \"b\":')\n",
    "print(mod_L2_reg.intercept_)\n"
   ]
  },
  {
   "cell_type": "code",
   "execution_count": 95,
   "metadata": {},
   "outputs": [
    {
     "name": "stdout",
     "output_type": "stream",
     "text": [
      "Mean Absolute Error: 7.3258139256748676\n",
      "Mean Absolute Percentage Error: 206.82098896920516\n",
      "Mean Squared Error: 80.62014281880064\n",
      "Root Mean Squared Error: 8.978872023745557\n",
      "R^2 coefficient of determination: -0.18838653919222637\n"
     ]
    }
   ],
   "source": [
    "print('Mean Absolute Error:', mean_absolute_error(y_test, y_pred_l2_mod))\n",
    "print('Mean Absolute Percentage Error:', mean_absolute_percentage_error(y_test, y_pred_l2_mod)*100)\n",
    "print('Mean Squared Error:', mean_squared_error(y_test, y_pred_l2_mod))\n",
    "print('Root Mean Squared Error:', np.sqrt(mean_squared_error(y_test, y_pred_l2_mod)))\n",
    "print('R^2 coefficient of determination:', r2_score(y_test, y_pred_l2_mod))"
   ]
  },
  {
   "cell_type": "code",
   "execution_count": 96,
   "metadata": {},
   "outputs": [],
   "source": [
    "mod_L1_reg = Lasso(alpha = 1)\n",
    "mod_L1_reg.fit(X_train, y_train)\n",
    "y_pred_l1_mod = mod_L1_reg.predict(X_test)"
   ]
  },
  {
   "cell_type": "code",
   "execution_count": 100,
   "metadata": {},
   "outputs": [
    {
     "name": "stdout",
     "output_type": "stream",
     "text": [
      "DATOS DEL MODELO REGRESIÓN LINEAL MULTIPLE L1\n",
      "\n",
      " Valor de las pendientes o coeficientes \"a\":\n",
      "[0.10401364]\n",
      "\n",
      " Valor de la intersección o coeficiente \"b\":\n",
      "15.526403821240242\n"
     ]
    }
   ],
   "source": [
    "print('DATOS DEL MODELO REGRESIÓN LINEAL MULTIPLE L1')\n",
    "print('\\n', 'Valor de las pendientes o coeficientes \"a\":')\n",
    "print(mod_L1_reg.coef_)\n",
    "print('\\n', 'Valor de la intersección o coeficiente \"b\":')\n",
    "print(mod_L1_reg.intercept_)\n"
   ]
  },
  {
   "cell_type": "code",
   "execution_count": 102,
   "metadata": {},
   "outputs": [],
   "source": [
    "mod_elastic_reg = ElasticNet(alpha=1, l1_ratio=0.2, random_state=100)\n",
    "mod_elastic_reg.fit(X_train, y_train)\n",
    "y_pred_elastic_mod = mod_elastic_reg.predict(X_test)"
   ]
  },
  {
   "cell_type": "code",
   "execution_count": 103,
   "metadata": {},
   "outputs": [
    {
     "name": "stdout",
     "output_type": "stream",
     "text": [
      "DATOS DEL MODELO REGRESIÓN LINEAL MULTIPLE Elastic Net \n",
      "\n",
      " Valor de las pendientes o coeficientes \"a\":\n",
      "[0.11232952]\n",
      "\n",
      " Valor de la intersección o coeficiente \"b\":\n",
      "15.387550571059798\n"
     ]
    }
   ],
   "source": [
    "print('DATOS DEL MODELO REGRESIÓN LINEAL MULTIPLE Elastic Net ')\n",
    "print('\\n', 'Valor de las pendientes o coeficientes \"a\":')\n",
    "print(mod_elastic_reg.coef_)\n",
    "print('\\n', 'Valor de la intersección o coeficiente \"b\":')\n",
    "print(mod_elastic_reg.intercept_)"
   ]
  },
  {
   "cell_type": "code",
   "execution_count": 104,
   "metadata": {},
   "outputs": [
    {
     "name": "stdout",
     "output_type": "stream",
     "text": [
      "Mean Absolute Error: 7.327364471970045\n",
      "Mean Absolute Percentage Error: 206.6191775274942\n",
      "Mean Squared Error: 80.6065823270964\n",
      "Root Mean Squared Error: 8.978116858623327\n",
      "R^2 coefficient of determination: -0.18818664986875588\n"
     ]
    }
   ],
   "source": [
    "print('Mean Absolute Error:', mean_absolute_error(y_test, y_pred_elastic_mod))\n",
    "print('Mean Absolute Percentage Error:', mean_absolute_percentage_error(y_test, y_pred_elastic_mod)*100)\n",
    "print('Mean Squared Error:', mean_squared_error(y_test, y_pred_elastic_mod))\n",
    "print('Root Mean Squared Error:', np.sqrt(mean_squared_error(y_test, y_pred_elastic_mod)))\n",
    "print('R^2 coefficient of determination:', r2_score(y_test, y_pred_elastic_mod))"
   ]
  },
  {
   "cell_type": "code",
   "execution_count": null,
   "metadata": {},
   "outputs": [],
   "source": []
  },
  {
   "cell_type": "code",
   "execution_count": null,
   "metadata": {},
   "outputs": [],
   "source": []
  },
  {
   "cell_type": "code",
   "execution_count": null,
   "metadata": {},
   "outputs": [],
   "source": []
  },
  {
   "cell_type": "code",
   "execution_count": null,
   "metadata": {},
   "outputs": [],
   "source": []
  }
 ],
 "metadata": {
  "kernelspec": {
   "display_name": "base",
   "language": "python",
   "name": "python3"
  },
  "language_info": {
   "codemirror_mode": {
    "name": "ipython",
    "version": 3
   },
   "file_extension": ".py",
   "mimetype": "text/x-python",
   "name": "python",
   "nbconvert_exporter": "python",
   "pygments_lexer": "ipython3",
   "version": "3.9.7"
  },
  "orig_nbformat": 4,
  "vscode": {
   "interpreter": {
    "hash": "e397700d123638bdf0cd7574c04c8c56e0f0c191899c9ea592d621cb6d23df9d"
   }
  }
 },
 "nbformat": 4,
 "nbformat_minor": 2
}
