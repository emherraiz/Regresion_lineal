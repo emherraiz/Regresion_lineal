{
 "cells": [
  {
   "cell_type": "code",
   "execution_count": null,
   "metadata": {},
   "outputs": [],
   "source": []
  }
 ],
 "metadata": {
  "kernelspec": {
   "display_name": "base",
   "language": "python",
   "name": "python3"
  },
  "language_info": {
   "name": "python",
   "version": "3.9.7"
  },
  "orig_nbformat": 4,
  "vscode": {
   "interpreter": {
    "hash": "e397700d123638bdf0cd7574c04c8c56e0f0c191899c9ea592d621cb6d23df9d"
   }
  }
 },
 "nbformat": 4,
 "nbformat_minor": 2
}
